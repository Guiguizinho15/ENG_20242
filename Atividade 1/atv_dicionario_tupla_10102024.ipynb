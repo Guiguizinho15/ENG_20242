{
  "nbformat": 4,
  "nbformat_minor": 0,
  "metadata": {
    "colab": {
      "provenance": [],
      "authorship_tag": "ABX9TyO1I2Crr8dZv+ZWLbFBVI0q",
      "include_colab_link": true
    },
    "kernelspec": {
      "name": "python3",
      "display_name": "Python 3"
    },
    "language_info": {
      "name": "python"
    }
  },
  "cells": [
    {
      "cell_type": "markdown",
      "metadata": {
        "id": "view-in-github",
        "colab_type": "text"
      },
      "source": [
        "<a href=\"https://colab.research.google.com/github/Guiguizinho15/ENG_20242/blob/main/Atividade%201/atv_dicionario_tupla_10102024.ipynb\" target=\"_parent\"><img src=\"https://colab.research.google.com/assets/colab-badge.svg\" alt=\"Open In Colab\"/></a>"
      ]
    },
    {
      "cell_type": "markdown",
      "source": [
        "ATIVIDADE 10/10"
      ],
      "metadata": {
        "id": "_HUqwa61M7RS"
      }
    },
    {
      "cell_type": "code",
      "execution_count": null,
      "metadata": {
        "id": "U-a_h3uHM6sI"
      },
      "outputs": [],
      "source": [
        "#1\n",
        "\n",
        "cidades = (\"São Paulo\", \"Rio de Janeiro\", \"Belo Horizonte\", \"Salvador\", \"Fortaleza\")\n",
        "print(cidades[2])"
      ]
    },
    {
      "cell_type": "code",
      "source": [
        "#2\n",
        "\n",
        "numeros = (1, 2, 3, 1, 4, 1)\n",
        "quantidade_de_1 = numeros.count(1)\n",
        "print(f\"O número 1 aparece {quantidade_de_1} vezes na tupla.\")"
      ],
      "metadata": {
        "id": "mZA8HEuhNKai"
      },
      "execution_count": null,
      "outputs": []
    },
    {
      "cell_type": "code",
      "source": [
        "#3\n",
        "\n",
        "animais = ('cachorro', 'gato', 'pássaro')\n",
        "if 'gato' in animais:\n",
        "  print(\"Gato está presente na tupla.\")\n",
        "else:\n",
        "  print(\"Gato não está presente na tupla.\")"
      ],
      "metadata": {
        "id": "n3Z1-E1hN61P"
      },
      "execution_count": null,
      "outputs": []
    },
    {
      "cell_type": "code",
      "source": [
        "#4\n",
        "\n",
        "meses = ('janeiro', 'fevereiro', 'março', 'abril', 'maio')\n",
        "indice_abril = meses.index('abril')\n",
        "print(f\"O índice do mês 'abril' é: {indice_abril}\")"
      ],
      "metadata": {
        "id": "_0ozlrpuOUsZ"
      },
      "execution_count": null,
      "outputs": []
    },
    {
      "cell_type": "code",
      "source": [
        "#5\n",
        "\n",
        "coordenadas = (-23.5505, -46.6333)\n",
        "latitude = coordenadas[0]\n",
        "longitude = coordenadas[1]\n",
        "print(f\"Latitude: {latitude}\")\n",
        "print(f\"Longitude: {longitude}\")"
      ],
      "metadata": {
        "id": "PtdPfNuVOibh"
      },
      "execution_count": null,
      "outputs": []
    },
    {
      "cell_type": "code",
      "source": [
        "#6\n",
        "\n",
        "carro = {\n",
        "    \"marca\": \"Fiat\",\n",
        "    \"modelo\": \"Uno\",\n",
        "    \"ano\": 1995\n",
        "}\n",
        "print(carro[\"modelo\"])"
      ],
      "metadata": {
        "id": "4913OSYlO0hZ"
      },
      "execution_count": null,
      "outputs": []
    },
    {
      "cell_type": "code",
      "source": [
        "#7\n",
        "\n",
        "carro = {\n",
        "    \"marca\": \"Fiat\",\n",
        "    \"modelo\": \"Uno\",\n",
        "    \"ano\": 1995\n",
        "}\n",
        "carro[\"cor\"] = \"vermelho\"\n",
        "print(carro)"
      ],
      "metadata": {
        "id": "FWIThE07PIyL"
      },
      "execution_count": null,
      "outputs": []
    },
    {
      "cell_type": "code",
      "source": [
        "#8\n",
        "\n",
        "pessoa = {'nome': 'João', 'idade': 30, 'cidade': 'São Paulo'}\n",
        "del pessoa['idade']\n",
        "print(pessoa)"
      ],
      "metadata": {
        "id": "ct8N0ZkNPYSZ"
      },
      "execution_count": null,
      "outputs": []
    },
    {
      "cell_type": "code",
      "source": [
        "#9\n",
        "\n",
        "produto = {\n",
        "    \"nome\": \"Camiseta\",\n",
        "    \"preco\": 29.90,\n",
        "    \"quantidade\": 10\n",
        "}\n",
        "for chave, valor in produto.items():\n",
        "  print(f\"{chave}: {valor}\")"
      ],
      "metadata": {
        "id": "8RgF0OuNPwzR"
      },
      "execution_count": null,
      "outputs": []
    },
    {
      "cell_type": "code",
      "source": [
        "#10\n",
        "\n",
        "estudante = {'nome': 'Maria', 'curso': 'Biologia', 'ano': 2}\n",
        "if 'curso' in estudante:\n",
        "  print(\"A estudante está no curso de Biologia.\")"
      ],
      "metadata": {
        "id": "GEhR-xoHP7cR"
      },
      "execution_count": 9,
      "outputs": []
    }
  ]
}