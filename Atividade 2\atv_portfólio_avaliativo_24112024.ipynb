{
  "nbformat": 4,
  "nbformat_minor": 0,
  "metadata": {
    "colab": {
      "provenance": [],
      "authorship_tag": "ABX9TyP544zgZGbtmFrqlypRjmoJ",
      "include_colab_link": true
    },
    "kernelspec": {
      "name": "python3",
      "display_name": "Python 3"
    },
    "language_info": {
      "name": "python"
    }
  },
  "cells": [
    {
      "cell_type": "markdown",
      "metadata": {
        "id": "view-in-github",
        "colab_type": "text"
      },
      "source": [
        "<a href=\"https://colab.research.google.com/github/guilhermedmerisio/ENG_20242/blob/main/Atividade%202%5Catv_portf%C3%B3lio_avaliativo_24112024.ipynb\" target=\"_parent\"><img src=\"https://colab.research.google.com/assets/colab-badge.svg\" alt=\"Open In Colab\"/></a>"
      ]
    },
    {
      "cell_type": "markdown",
      "source": [
        "ATIVIDADE 2 - PORTFÓLIO AVALIATIVO"
      ],
      "metadata": {
        "id": "_Mn6WlkuOq-t"
      }
    },
    {
      "cell_type": "code",
      "source": [
        "#1\n",
        "\n",
        "def filtrar_impares(lista):\n",
        "    return [numero for numero in lista if numero % 2 != 0]\n",
        "numeros = [1, 2, 3, 4, 5, 6, 7, 8, 9]\n",
        "impares = filtrar_impares(numeros)\n",
        "print(impares)"
      ],
      "metadata": {
        "colab": {
          "base_uri": "https://localhost:8080/"
        },
        "id": "hF8I4jFyP8eL",
        "outputId": "498d211e-1fe0-4246-aa49-ba2ef77a60e6"
      },
      "execution_count": 34,
      "outputs": [
        {
          "output_type": "stream",
          "name": "stdout",
          "text": [
            "[1, 3, 5, 7, 9]\n"
          ]
        }
      ]
    },
    {
      "cell_type": "code",
      "source": [
        "#2\n",
        "\n",
        "def dobrar_elementos(lista):\n",
        "    return [numero * 2 for numero in lista]\n",
        "numeros = [1, 2, 3, 4, 5]\n",
        "dobrados = dobrar_elementos(numeros)\n",
        "print(dobrados)"
      ],
      "metadata": {
        "colab": {
          "base_uri": "https://localhost:8080/"
        },
        "id": "WxiaiCoWPCoa",
        "outputId": "f080fd00-1c66-4dc9-cba7-25ab0fb61d83"
      },
      "execution_count": 33,
      "outputs": [
        {
          "output_type": "stream",
          "name": "stdout",
          "text": [
            "[2, 4, 6, 8, 10]\n"
          ]
        }
      ]
    },
    {
      "cell_type": "code",
      "source": [
        "#3\n",
        "\n",
        "def remover_duplicatas(lista):\n",
        "    return list(set(lista))\n",
        "numeros = [1, 2, 3, 2, 4, 5, 1]\n",
        "sem_duplicatas = remover_duplicatas(numeros)\n",
        "print(sem_duplicatas)"
      ],
      "metadata": {
        "colab": {
          "base_uri": "https://localhost:8080/"
        },
        "id": "qgNAzbT_PIwH",
        "outputId": "c853c008-d006-4a00-8497-d9cc184cb19f"
      },
      "execution_count": 35,
      "outputs": [
        {
          "output_type": "stream",
          "name": "stdout",
          "text": [
            "[1, 2, 3, 4, 5]\n"
          ]
        }
      ]
    },
    {
      "cell_type": "code",
      "source": [
        "#4\n",
        "\n",
        "def elementos_divisiveis(lista, divisor):\n",
        "    return [numero for numero in lista if numero % divisor == 0]\n",
        "numeros = [10, 15, 20, 25, 30]\n",
        "divisor = 5\n",
        "divisiveis = elementos_divisiveis(numeros, divisor)\n",
        "print(divisiveis)"
      ],
      "metadata": {
        "colab": {
          "base_uri": "https://localhost:8080/"
        },
        "id": "Y74nTTo2PQKH",
        "outputId": "64b21f49-3e14-45a5-9059-985ece033e1f"
      },
      "execution_count": 36,
      "outputs": [
        {
          "output_type": "stream",
          "name": "stdout",
          "text": [
            "[10, 15, 20, 25, 30]\n"
          ]
        }
      ]
    },
    {
      "cell_type": "code",
      "source": [
        "#5\n",
        "\n",
        "def elementos_comum(lista1, lista2):\n",
        "    return set(lista1) & set(lista2)\n",
        "lista1 = [1, 2, 3, 4, 5]\n",
        "lista2 = [3, 4, 5, 6, 7]\n",
        "comum = elementos_comum(lista1, lista2)\n",
        "print(comum)"
      ],
      "metadata": {
        "colab": {
          "base_uri": "https://localhost:8080/"
        },
        "id": "lxoLBHvnPXu9",
        "outputId": "e9ae642e-f7a3-4f82-df2f-04e76d5f36d8"
      },
      "execution_count": 37,
      "outputs": [
        {
          "output_type": "stream",
          "name": "stdout",
          "text": [
            "{3, 4, 5}\n"
          ]
        }
      ]
    },
    {
      "cell_type": "code",
      "source": [
        "#6\n",
        "\n",
        "def inverter_lista(lista):\n",
        "    return lista[::-1]\n",
        "numeros = [1, 2, 3, 4, 5]\n",
        "invertida = inverter_lista(numeros)\n",
        "print(invertida)"
      ],
      "metadata": {
        "colab": {
          "base_uri": "https://localhost:8080/"
        },
        "id": "FVvDePFdQwGP",
        "outputId": "658a4de6-6950-462a-aad9-1595ab6cfa6f"
      },
      "execution_count": 38,
      "outputs": [
        {
          "output_type": "stream",
          "name": "stdout",
          "text": [
            "[5, 4, 3, 2, 1]\n"
          ]
        }
      ]
    },
    {
      "cell_type": "code",
      "source": [
        "#7\n",
        "\n",
        "def quadrados(lista):\n",
        "    return [numero ** 2 for numero in lista]\n",
        "numeros = [1, 2, 3, 4, 5]\n",
        "quadrados_numeros = quadrados(numeros)\n",
        "print(quadrados_numeros)"
      ],
      "metadata": {
        "colab": {
          "base_uri": "https://localhost:8080/"
        },
        "id": "Ug0Wga81Q3K3",
        "outputId": "f926b43f-30d0-4e39-ab87-b064726f8601"
      },
      "execution_count": 39,
      "outputs": [
        {
          "output_type": "stream",
          "name": "stdout",
          "text": [
            "[1, 4, 9, 16, 25]\n"
          ]
        }
      ]
    },
    {
      "cell_type": "code",
      "source": [
        "#8\n",
        "\n",
        "def elementos_maiores_que(lista, valor):\n",
        "    return [numero for numero in lista if numero > valor]\n",
        "numeros = [1, 3, 5, 7, 9, 2, 4]\n",
        "valor = 4\n",
        "maiores_que_valor = elementos_maiores_que(numeros, valor)\n",
        "print(maiores_que_valor)"
      ],
      "metadata": {
        "colab": {
          "base_uri": "https://localhost:8080/"
        },
        "id": "cYuAxoxVQ-yO",
        "outputId": "aed1e5be-7878-4925-d392-6bdd42b434fb"
      },
      "execution_count": 40,
      "outputs": [
        {
          "output_type": "stream",
          "name": "stdout",
          "text": [
            "[5, 7, 9]\n"
          ]
        }
      ]
    },
    {
      "cell_type": "code",
      "source": [
        "#9\n",
        "\n",
        "def elementos_unicos(lista1, lista2):\n",
        "    return [elemento for elemento in lista1 if elemento not in lista2] + [elemento for elemento in lista2 if elemento not in lista1]\n",
        "lista1 = [1, 2, 3, 4, 5]\n",
        "lista2 = [4, 5, 6, 7, 8]\n",
        "unicos = elementos_unicos(lista1, lista2)\n",
        "print(unicos)"
      ],
      "metadata": {
        "colab": {
          "base_uri": "https://localhost:8080/"
        },
        "id": "LllRDNQiRNMm",
        "outputId": "f19aa983-506b-496b-a4ef-5aaf630473b5"
      },
      "execution_count": 21,
      "outputs": [
        {
          "output_type": "stream",
          "name": "stdout",
          "text": [
            "[1, 2, 3, 6, 7, 8]\n"
          ]
        }
      ]
    },
    {
      "cell_type": "code",
      "source": [
        "#10\n",
        "\n",
        "def lista_para_conjunto(lista):\n",
        "    return set(lista)\n",
        "lista = [1, 2, 2, 3, 4, 4, 5]\n",
        "resultado = lista_para_conjunto(lista)\n",
        "print(resultado)"
      ],
      "metadata": {
        "colab": {
          "base_uri": "https://localhost:8080/"
        },
        "id": "Abls6VC2RcrG",
        "outputId": "46567999-80f5-4fd6-9da8-bb3f2036bcc5"
      },
      "execution_count": 24,
      "outputs": [
        {
          "output_type": "stream",
          "name": "stdout",
          "text": [
            "{1, 2, 3, 4, 5}\n"
          ]
        }
      ]
    },
    {
      "cell_type": "code",
      "source": [
        "#11\n",
        "\n",
        "def elementos_comuns(lista1, lista2):\n",
        "    comuns = set(lista1) & set(lista2)\n",
        "    return list(comuns)\n",
        "lista1 = [1, 2, 2, 3, 4]\n",
        "lista2 = [3, 4, 4, 5, 6]\n",
        "resultado = elementos_comuns(lista1, lista2)\n",
        "print(resultado)"
      ],
      "metadata": {
        "colab": {
          "base_uri": "https://localhost:8080/"
        },
        "id": "HFbwPbjSSFuK",
        "outputId": "1cfbb549-6139-4e2b-c674-d2eb7d68a3d6"
      },
      "execution_count": 41,
      "outputs": [
        {
          "output_type": "stream",
          "name": "stdout",
          "text": [
            "[3, 4]\n"
          ]
        }
      ]
    },
    {
      "cell_type": "code",
      "source": [
        "#12\n",
        "\n",
        "def elementos_repetidos(lista):\n",
        "    from collections import Counter\n",
        "    contador = Counter(lista)\n",
        "    repetidos = [item for item, count in contador.items() if count > 1]\n",
        "    return repetidos\n",
        "lista = [1, 2, 2, 3, 4, 4, 5, 6, 6, 6]\n",
        "resultado = elementos_repetidos(lista)\n",
        "print(resultado)"
      ],
      "metadata": {
        "colab": {
          "base_uri": "https://localhost:8080/"
        },
        "id": "SyY4FzdmSQ3C",
        "outputId": "d6625bd3-5bf9-4edf-d34b-30f11dc97ba7"
      },
      "execution_count": 42,
      "outputs": [
        {
          "output_type": "stream",
          "name": "stdout",
          "text": [
            "[2, 4, 6]\n"
          ]
        }
      ]
    },
    {
      "cell_type": "code",
      "source": [
        "#13\n",
        "\n",
        "def numeros_pares(lista):\n",
        "    return [num for num in lista if num % 2 == 0]\n",
        "lista = [1, 2, 3, 4, 5, 6, 7, 8, 9, 10]\n",
        "resultado = numeros_pares(lista)\n",
        "print(resultado)"
      ],
      "metadata": {
        "colab": {
          "base_uri": "https://localhost:8080/"
        },
        "id": "87K6HyVBSeAf",
        "outputId": "4ec1f64f-e5e9-4954-ab38-9e0bcd20c295"
      },
      "execution_count": 43,
      "outputs": [
        {
          "output_type": "stream",
          "name": "stdout",
          "text": [
            "[2, 4, 6, 8, 10]\n"
          ]
        }
      ]
    },
    {
      "cell_type": "code",
      "source": [
        "#14\n",
        "\n",
        "def indices_maiores_que(lista, valor):\n",
        "    return [i for i, num in enumerate(lista) if num > valor]\n",
        "lista = [10, 15, 7, 20, 5, 30]\n",
        "valor = 10\n",
        "resultado = indices_maiores_que(lista, valor)\n",
        "print(resultado)"
      ],
      "metadata": {
        "colab": {
          "base_uri": "https://localhost:8080/"
        },
        "id": "0XRVBYfNSnVE",
        "outputId": "79ae5b44-3312-4ac3-c94c-cb1d0f039ba8"
      },
      "execution_count": 44,
      "outputs": [
        {
          "output_type": "stream",
          "name": "stdout",
          "text": [
            "[1, 3, 5]\n"
          ]
        }
      ]
    },
    {
      "cell_type": "code",
      "source": [
        "#15\n",
        "\n",
        "def tamanhos_das_strings(lista):\n",
        "    return [len(string) for string in lista]\n",
        "lista = [\"casa\", \"carro\", \"avião\", \"python\"]\n",
        "resultado = tamanhos_das_strings(lista)\n",
        "print(resultado)"
      ],
      "metadata": {
        "colab": {
          "base_uri": "https://localhost:8080/"
        },
        "id": "j5Sl7UnKSx1p",
        "outputId": "0f6e56d4-9d8d-4024-c022-66058784dc8f"
      },
      "execution_count": 45,
      "outputs": [
        {
          "output_type": "stream",
          "name": "stdout",
          "text": [
            "[4, 5, 5, 6]\n"
          ]
        }
      ]
    },
    {
      "cell_type": "code",
      "source": [
        "#16\n",
        "\n",
        "def cubos(lista):\n",
        "    return [num ** 3 for num in lista]\n",
        "lista = [1, 2, 3, 4, 5]\n",
        "resultado = cubos(lista)\n",
        "print(resultado)"
      ],
      "metadata": {
        "colab": {
          "base_uri": "https://localhost:8080/"
        },
        "id": "-Vi8i2F6S8ap",
        "outputId": "01b6eae6-d7be-459c-ccf8-3320bacaa49c"
      },
      "execution_count": 32,
      "outputs": [
        {
          "output_type": "stream",
          "name": "stdout",
          "text": [
            "[1, 8, 27, 64, 125]\n"
          ]
        }
      ]
    },
    {
      "cell_type": "code",
      "source": [
        "#17\n",
        "\n",
        "def elementos_unicos(lista):\n",
        "    return list(set(lista))\n",
        "lista = [1, 2, 2, 3, 4, 4, 5]\n",
        "resultado = elementos_unicos(lista)\n",
        "print(resultado)"
      ],
      "metadata": {
        "colab": {
          "base_uri": "https://localhost:8080/"
        },
        "id": "OQBBfpmBTE22",
        "outputId": "7dfb16bd-70c4-4bb3-c901-c17fbea4db85"
      },
      "execution_count": 46,
      "outputs": [
        {
          "output_type": "stream",
          "name": "stdout",
          "text": [
            "[1, 2, 3, 4, 5]\n"
          ]
        }
      ]
    },
    {
      "cell_type": "code",
      "source": [
        "#18\n",
        "\n",
        "def strings_com_maiuscula(lista):\n",
        "    return [s for s in lista if s and s[0].isupper()]\n",
        "lista = [\"Python\", \"java\", \"C++\", \"ruby\", \"JavaScript\"]\n",
        "resultado = strings_com_maiuscula(lista)\n",
        "print(resultado)"
      ],
      "metadata": {
        "colab": {
          "base_uri": "https://localhost:8080/"
        },
        "id": "ei81JJn_TSY2",
        "outputId": "0681dad3-cdb6-4fb0-a47a-33d5c5cd0ac9"
      },
      "execution_count": 47,
      "outputs": [
        {
          "output_type": "stream",
          "name": "stdout",
          "text": [
            "['Python', 'C++', 'JavaScript']\n"
          ]
        }
      ]
    },
    {
      "cell_type": "code",
      "source": [
        "#19\n",
        "\n",
        "def multiplos_de_tres(lista):\n",
        "    return [num for num in lista if num % 3 == 0]\n",
        "lista = [1, 3, 4, 6, 9, 10, 12, 14, 15]\n",
        "resultado = multiplos_de_tres(lista)\n",
        "print(resultado)"
      ],
      "metadata": {
        "colab": {
          "base_uri": "https://localhost:8080/"
        },
        "id": "WejATTvcTp2d",
        "outputId": "3bf47922-fa8c-45bf-cd22-a996e6b19249"
      },
      "execution_count": 48,
      "outputs": [
        {
          "output_type": "stream",
          "name": "stdout",
          "text": [
            "[3, 6, 9, 12, 15]\n"
          ]
        }
      ]
    },
    {
      "cell_type": "code",
      "source": [
        "#20\n",
        "\n",
        "def interseccao_ordenada(lista1, lista2):\n",
        "    intersecao = sorted(set(lista1) & set(lista2))\n",
        "    return intersecao\n",
        "lista1 = [1, 2, 3, 4, 5]\n",
        "lista2 = [4, 5, 6, 7, 8]\n",
        "resultado = interseccao_ordenada(lista1, lista2)\n",
        "print(resultado)"
      ],
      "metadata": {
        "colab": {
          "base_uri": "https://localhost:8080/"
        },
        "id": "NuKe8AqTT2db",
        "outputId": "32da24e6-3e27-4834-bc7e-6a61e793ebab"
      },
      "execution_count": 49,
      "outputs": [
        {
          "output_type": "stream",
          "name": "stdout",
          "text": [
            "[4, 5]\n"
          ]
        }
      ]
    }
  ]
}