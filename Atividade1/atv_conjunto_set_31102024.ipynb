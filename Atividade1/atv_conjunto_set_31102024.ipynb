{
  "nbformat": 4,
  "nbformat_minor": 0,
  "metadata": {
    "colab": {
      "provenance": [],
      "authorship_tag": "ABX9TyPeKJPEim0Rh/QKRpo+2AsY",
      "include_colab_link": true
    },
    "kernelspec": {
      "name": "python3",
      "display_name": "Python 3"
    },
    "language_info": {
      "name": "python"
    }
  },
  "cells": [
    {
      "cell_type": "markdown",
      "metadata": {
        "id": "view-in-github",
        "colab_type": "text"
      },
      "source": [
        "<a href=\"https://colab.research.google.com/github/Guiguizinho15/ENG_20242/blob/main/Atividade1/atv_conjunto_set_31102024.ipynb\" target=\"_parent\"><img src=\"https://colab.research.google.com/assets/colab-badge.svg\" alt=\"Open In Colab\"/></a>"
      ]
    },
    {
      "cell_type": "markdown",
      "source": [
        "ATIVIDADE 31/10"
      ],
      "metadata": {
        "id": "kAG29bAfRnTb"
      }
    },
    {
      "cell_type": "code",
      "execution_count": null,
      "metadata": {
        "id": "-8KsDSuoRmro"
      },
      "outputs": [],
      "source": [
        "#1\n",
        "\n",
        "def saudacao():\n",
        "  nome = input(\"Digite o seu nome: \")\n",
        "  cidade = input(\"Digite a sua cidade: \")\n",
        "  print(f\"Olá, {nome}! Você vive em {cidade}.\")\n",
        "print(saudacao())"
      ]
    },
    {
      "cell_type": "code",
      "source": [
        "#2\n",
        "\n",
        "def calcular_retangulo():\n",
        "  comprimento = float(input(\"Digite o comprimento do retângulo: \"))\n",
        "  largura = float(input(\"Digite a largura do retângulo: \"))\n",
        "  area = comprimento * largura\n",
        "  perimetro = 2 * (comprimento + largura)\n",
        "  print(f\"A área do retângulo é: {area}\")\n",
        "  print(f\"O perímetro do retângulo é: {perimetro}\")\n",
        "print(calcular_retangulo())"
      ],
      "metadata": {
        "id": "ZAWWWDGpSfBy"
      },
      "execution_count": null,
      "outputs": []
    },
    {
      "cell_type": "code",
      "source": [
        "#3\n",
        "\n",
        "def conversor_medidas():\n",
        "  metros = float(input(\"Digite a medida em metros: \"))\n",
        "  centimetros = metros * 100\n",
        "  milimetros = metros * 1000\n",
        "  print(f\"{metros} metros equivalem a {centimetros} centímetros e {milimetros} milímetros.\")\n",
        "print(conversor_medidas())"
      ],
      "metadata": {
        "id": "Vb5T0CSITE7y"
      },
      "execution_count": null,
      "outputs": []
    },
    {
      "cell_type": "code",
      "source": [
        "#4\n",
        "\n",
        "def calcular_area_retangulo():\n",
        "    base = float(input(\"Digite o tamanho da base do retângulo (cm): \"))\n",
        "    altura = float(input(\"Digite a altura do retângulo (cm): \"))\n",
        "    area = base * altura\n",
        "    print(f\"A área do retângulo é: {area} cm²\")\n",
        "print(calcular_area_retangulo())"
      ],
      "metadata": {
        "id": "kTqNuffLV_O_"
      },
      "execution_count": null,
      "outputs": []
    },
    {
      "cell_type": "code",
      "source": [
        "#5\n",
        "\n",
        "def verificar_idades():\n",
        "    idade1 = int(input(\"Digite a idade da primeira pessoa: \"))\n",
        "    idade2 = int(input(\"Digite a idade da segunda pessoa: \"))\n",
        "    if idade1 == idade2:\n",
        "        print(\"As idades são iguais.\")\n",
        "    else:\n",
        "        print(\"As idades são diferentes.\")\n",
        "print(verificar_idades())"
      ],
      "metadata": {
        "id": "CUoEozArWEtv"
      },
      "execution_count": null,
      "outputs": []
    },
    {
      "cell_type": "code",
      "source": [
        "#6\n",
        "\n",
        "def calcular_imc():\n",
        "  peso = float(input(\"Digite o seu peso em kg: \"))\n",
        "  altura = float(input(\"Digite a sua altura em metros: \"))\n",
        "  imc = peso / (altura ** 2)\n",
        "  print(f\"Seu IMC é: {imc:.2f}\")\n",
        "print(calcular_imc())"
      ],
      "metadata": {
        "id": "J-wC3uI7Wpsm"
      },
      "execution_count": null,
      "outputs": []
    },
    {
      "cell_type": "code",
      "source": [
        "#7\n",
        "\n",
        "def comparar_numeros():\n",
        "  num1 = float(input(\"Digite o primeiro número: \"))\n",
        "  num2 = float(input(\"Digite o segundo número: \"))\n",
        "  if num1 > num2:\n",
        "    print(\"O primeiro número é maior que o segundo.\")\n",
        "  elif num1 < num2:\n",
        "    print(\"O primeiro número é menor que o segundo.\")\n",
        "  else:\n",
        "    print(\"Os números são iguais.\")\n",
        "print(comparar_numeros())"
      ],
      "metadata": {
        "id": "9nLRNB8tizgf"
      },
      "execution_count": null,
      "outputs": []
    },
    {
      "cell_type": "code",
      "source": [
        "#8\n",
        "\n",
        "def calcular_media():\n",
        "  num1 = float(input(\"Digite o primeiro número: \"))\n",
        "  num2 = float(input(\"Digite o segundo número: \"))\n",
        "  num3 = float(input(\"Digite o terceiro número: \"))\n",
        "  media = (num1 + num2 + num3) / 3\n",
        "  print(f\"A média aritmética dos números é: {media}\")\n",
        "print(calcular_media())"
      ],
      "metadata": {
        "id": "mCfX5dPbi_QX"
      },
      "execution_count": null,
      "outputs": []
    },
    {
      "cell_type": "code",
      "source": [
        "#9\n",
        "\n",
        "import math\n",
        "def calcular_volume_cilindro():\n",
        "  raio = float(input(\"Digite o raio do cilindro: \"))\n",
        "  altura = float(input(\"Digite a altura do cilindro: \"))\n",
        "  volume = math.pi * (raio ** 2) * altura\n",
        "  print(f\"O volume do cilindro é: {volume:.2f}\")\n",
        "print(calcular_volume_cilindro())"
      ],
      "metadata": {
        "id": "N49rc3eDi_yH"
      },
      "execution_count": null,
      "outputs": []
    },
    {
      "cell_type": "code",
      "source": [
        "#10\n",
        "\n",
        "def comparar_palavras():\n",
        "  palavra1 = input(\"Digite a primeira palavra: \")\n",
        "  palavra2 = input(\"Digite a segunda palavra: \")\n",
        "  if palavra1 == palavra2:\n",
        "    print(\"As palavras são iguais.\")\n",
        "  else:\n",
        "    print(\"As palavras são diferentes.\")\n",
        "print(comparar_palavras())"
      ],
      "metadata": {
        "id": "qSHcs32xjVaU"
      },
      "execution_count": null,
      "outputs": []
    }
  ]
}