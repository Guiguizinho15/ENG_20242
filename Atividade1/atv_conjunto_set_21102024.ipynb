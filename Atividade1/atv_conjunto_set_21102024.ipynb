{
  "nbformat": 4,
  "nbformat_minor": 0,
  "metadata": {
    "colab": {
      "provenance": [],
      "authorship_tag": "ABX9TyOVrklOboa3whV19zUvHhfS",
      "include_colab_link": true
    },
    "kernelspec": {
      "name": "python3",
      "display_name": "Python 3"
    },
    "language_info": {
      "name": "python"
    }
  },
  "cells": [
    {
      "cell_type": "markdown",
      "metadata": {
        "id": "view-in-github",
        "colab_type": "text"
      },
      "source": [
        "<a href=\"https://colab.research.google.com/github/Guiguizinho15/ENG_20242/blob/main/Atividade1/atv_conjunto_set_21102024.ipynb\" target=\"_parent\"><img src=\"https://colab.research.google.com/assets/colab-badge.svg\" alt=\"Open In Colab\"/></a>"
      ]
    },
    {
      "cell_type": "markdown",
      "source": [
        "ATIVIDADE 21/10"
      ],
      "metadata": {
        "id": "xf2U4uHxMk9Q"
      }
    },
    {
      "cell_type": "code",
      "execution_count": null,
      "metadata": {
        "id": "KUW3ZFZmHjnl"
      },
      "outputs": [],
      "source": [
        "#1\n",
        "\n",
        "frutas = {\"maçã\", \"banana\", \"laranja\", \"uva\"}\n",
        "print(frutas)"
      ]
    },
    {
      "cell_type": "code",
      "source": [
        "#2\n",
        "\n",
        "frutas = {\"maçã\", \"banana\", \"laranja\", \"uva\"}\n",
        "frutas.add(\"morango\")\n",
        "frutas.add(\"maçã\")\n",
        "print(frutas)"
      ],
      "metadata": {
        "id": "WcEupVofIBL3"
      },
      "execution_count": null,
      "outputs": []
    },
    {
      "cell_type": "code",
      "source": [
        "#3\n",
        "\n",
        "frutas = {\"maçã\", \"banana\", \"laranja\", \"uva\"}\n",
        "if \"banana\" in frutas:\n",
        "  frutas.remove(\"banana\")\n",
        "print(frutas)"
      ],
      "metadata": {
        "id": "59vA-9GjIu1W"
      },
      "execution_count": null,
      "outputs": []
    },
    {
      "cell_type": "code",
      "source": [
        "#4\n",
        "\n",
        "frutas = {\"maçã\", \"banana\", \"laranja\", \"uva\"}\n",
        "if \"laranja\" in frutas:\n",
        "  print(\"A fruta 'laranja' está presente no conjunto.\")\n",
        "else:\n",
        "  print(\"A fruta 'laranja' não está presente no conjunto.\")"
      ],
      "metadata": {
        "id": "xAa3HPMyJEmu"
      },
      "execution_count": null,
      "outputs": []
    },
    {
      "cell_type": "code",
      "source": [
        "#5\n",
        "\n",
        "frutas = {\"maçã\", \"banana\", \"laranja\", \"uva\"}\n",
        "citrus = {\"laranja\", \"limão\", \"tangerina\"}\n",
        "uniao_frutas = frutas.union(citrus)\n",
        "print(uniao_frutas)"
      ],
      "metadata": {
        "id": "bREHSawaJYqp"
      },
      "execution_count": null,
      "outputs": []
    },
    {
      "cell_type": "code",
      "source": [
        "#6\n",
        "\n",
        "frutas = {\"maçã\", \"banana\", \"laranja\", \"uva\"}\n",
        "citrus = {\"laranja\", \"limão\", \"tangerina\"}\n",
        "intersecao_frutas = frutas.intersection(citrus)\n",
        "print(\"Elementos comuns entre frutas e citrus:\", intersecao_frutas)"
      ],
      "metadata": {
        "id": "uh8GrRdnJngx"
      },
      "execution_count": null,
      "outputs": []
    },
    {
      "cell_type": "code",
      "source": [
        "#7\n",
        "\n",
        "frutas = {\"maçã\", \"banana\", \"laranja\", \"uva\"}\n",
        "citrus = {\"laranja\", \"limão\", \"tangerina\"}\n",
        "diferenca = frutas.difference(citrus)\n",
        "print(\"Diferença entre frutas e citrus:\", diferenca)"
      ],
      "metadata": {
        "id": "dvEBzxcIJ2bJ"
      },
      "execution_count": null,
      "outputs": []
    },
    {
      "cell_type": "code",
      "source": [
        "#8\n",
        "\n",
        "citrus = {\"laranja\", \"limão\", \"tangerina\"}\n",
        "citrus.clear()\n",
        "print(citrus)"
      ],
      "metadata": {
        "id": "8ZNv48HNKwnY"
      },
      "execution_count": null,
      "outputs": []
    },
    {
      "cell_type": "code",
      "source": [
        "#9\n",
        "\n",
        "frutas = {\"maçã\", \"banana\", \"laranja\", \"uva\"}\n",
        "frutas_imutavel = frozenset(frutas)\n",
        "print(frutas_imutavel)"
      ],
      "metadata": {
        "id": "taa-cGAeLEEI"
      },
      "execution_count": null,
      "outputs": []
    },
    {
      "cell_type": "code",
      "source": [
        "#10\n",
        "\n",
        "frutas = {\"maçã\", \"banana\", \"laranja\", \"uva\"}\n",
        "numero_elementos = len(frutas)\n",
        "print(\"O número total de elementos no conjunto frutas é:\", numero_elementos)"
      ],
      "metadata": {
        "id": "5pQf7rtILTUQ"
      },
      "execution_count": null,
      "outputs": []
    }
  ]
}