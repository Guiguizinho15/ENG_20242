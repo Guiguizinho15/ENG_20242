{
  "nbformat": 4,
  "nbformat_minor": 0,
  "metadata": {
    "colab": {
      "provenance": [],
      "authorship_tag": "ABX9TyPH1olxw8RyKJevHdQlxwTE",
      "include_colab_link": true
    },
    "kernelspec": {
      "name": "python3",
      "display_name": "Python 3"
    },
    "language_info": {
      "name": "python"
    }
  },
  "cells": [
    {
      "cell_type": "markdown",
      "metadata": {
        "id": "view-in-github",
        "colab_type": "text"
      },
      "source": [
        "<a href=\"https://colab.research.google.com/github/Guiguizinho15/ENG_20242/blob/main/Atividade2/atv_conjunto_set_04112024.ipynb\" target=\"_parent\"><img src=\"https://colab.research.google.com/assets/colab-badge.svg\" alt=\"Open In Colab\"/></a>"
      ]
    },
    {
      "cell_type": "markdown",
      "source": [
        "Atividade 04/11/2024"
      ],
      "metadata": {
        "id": "wcgvxOT1zqJG"
      }
    },
    {
      "cell_type": "code",
      "execution_count": null,
      "metadata": {
        "id": "2xIif7SRtcer"
      },
      "outputs": [],
      "source": [
        "#1\n",
        "\n",
        "def soma_lista(lista):\n",
        "  soma = 0\n",
        "  for numero in lista:\n",
        "    soma += numero\n",
        "  return soma\n",
        "numeros = [1, 2, 3, 4, 5]\n",
        "resultado = soma_lista(numeros)\n",
        "print(\"A soma dos elementos da lista é:\", resultado)"
      ]
    },
    {
      "cell_type": "code",
      "source": [
        "#2\n",
        "\n",
        "def inverte_lista(lista):\n",
        "  return lista[::-1]\n",
        "numeros = [1, 2, 3, 4, 5]\n",
        "lista_invertida = inverte_lista(numeros)\n",
        "print(\"Lista invertida:\", lista_invertida)"
      ],
      "metadata": {
        "id": "pJP_efsWuzpV"
      },
      "execution_count": null,
      "outputs": []
    },
    {
      "cell_type": "code",
      "source": [
        "#3\n",
        "\n",
        "def media_lista(lista):\n",
        "  if not lista:\n",
        "    return 0\n",
        "  soma = sum(lista)\n",
        "  media = soma / len(lista)\n",
        "  return media\n",
        "numeros = [1, 2, 3, 4, 5]\n",
        "resultado = media_lista(numeros)\n",
        "print(\"A média dos elementos da lista é:\", resultado)"
      ],
      "metadata": {
        "id": "vHklZChpvJDJ"
      },
      "execution_count": null,
      "outputs": []
    },
    {
      "cell_type": "code",
      "source": [
        "#4\n",
        "\n",
        "def tamanho_strings(lista_strings):\n",
        "  tamanhos = []\n",
        "  for string in lista_strings:\n",
        "    tamanhos.append(len(string))\n",
        "  return tamanhos\n",
        "strings = [\"Olá\", \"mundo\", \"Python\"]\n",
        "tamanhos = tamanho_strings(strings)\n",
        "print(\"Tamanhos das strings:\", tamanhos)"
      ],
      "metadata": {
        "id": "jMX5VOKtvd8M"
      },
      "execution_count": null,
      "outputs": []
    },
    {
      "cell_type": "code",
      "source": [
        "#5\n",
        "def elementos_comuns(lista1, lista2):\n",
        "  lista_comum = []\n",
        "  for elemento in lista1:\n",
        "    if elemento in lista2 and elemento not in lista_comum:\n",
        "      lista_comum.append(elemento)\n",
        "  return lista_comum\n",
        "lista1 = [1, 2, 3, 4, 5]\n",
        "lista2 = [3, 5, 6, 7, 8]\n",
        "elementos_em_comum = elementos_comuns(lista1, lista2)\n",
        "print(\"Elementos comuns:\", elementos_em_comum)"
      ],
      "metadata": {
        "id": "q569GgcWvuvW"
      },
      "execution_count": null,
      "outputs": []
    },
    {
      "cell_type": "code",
      "source": [
        "#6\n",
        "\n",
        "def elementos_unicos(lista):\n",
        "  return list(set(lista))\n",
        "minha_lista = [1, 2, 2, 3, 4, 4, 5]\n",
        "lista_unica = elementos_unicos(minha_lista)\n",
        "print(\"Lista com elementos únicos:\", lista_unica)"
      ],
      "metadata": {
        "id": "k5B2NZoKwEh-"
      },
      "execution_count": null,
      "outputs": []
    },
    {
      "cell_type": "code",
      "source": [
        "#7\n",
        "\n",
        "def numeros_pares(lista):\n",
        "  pares = []\n",
        "  for numero in lista:\n",
        "    if numero % 2 == 0:\n",
        "      pares.append(numero)\n",
        "  return pares\n",
        "numeros = [1, 2, 3, 4, 5, 6, 7, 8, 9, 10]\n",
        "pares = numeros_pares(numeros)\n",
        "print(\"Números pares:\", pares)"
      ],
      "metadata": {
        "id": "BUsKUBwJwQP1"
      },
      "execution_count": null,
      "outputs": []
    },
    {
      "cell_type": "code",
      "source": [
        "#8\n",
        "\n",
        "def maior_elemento(lista):\n",
        "  if not lista:\n",
        "    return None\n",
        "  maior = lista[0]\n",
        "  for numero in lista:\n",
        "    if numero > maior:\n",
        "      maior = numero\n",
        "  return maior\n",
        "numeros = [10, 5, 20, 8, 15]\n",
        "maior = maior_elemento(numeros)\n",
        "if maior is not None:\n",
        "  print(\"O maior elemento da lista é:\", maior)\n",
        "else:\n",
        "  print(\"A lista está vazia.\")"
      ],
      "metadata": {
        "id": "zuQvStPCwavP"
      },
      "execution_count": null,
      "outputs": []
    },
    {
      "cell_type": "code",
      "source": [
        "#9\n",
        "\n",
        "def esta_ordenada(lista):\n",
        "  for i in range(len(lista) - 1):\n",
        "    if lista[i] > lista[i + 1]:\n",
        "      return False\n",
        "  return True\n",
        "minha_lista = [1, 2, 3, 4, 5]\n",
        "if esta_ordenada(minha_lista):\n",
        "  print(\"A lista está ordenada de forma crescente.\")\n",
        "else:\n",
        "  print(\"A lista não está ordenada de forma crescente.\")"
      ],
      "metadata": {
        "id": "r9OnpQwwwoeN"
      },
      "execution_count": null,
      "outputs": []
    },
    {
      "cell_type": "code",
      "source": [
        "#10\n",
        "\n",
        "def e_subconjunto(lista1, lista2):\n",
        "  return set(lista1).issubset(set(lista2)) or set(lista2).issubset(set(lista1))\n",
        "lista1 = [1, 2, 3]\n",
        "lista2 = [1, 2, 3, 4, 5]\n",
        "lista3 = [6, 7, 8]\n",
        "print(e_subconjunto(lista1, lista2))\n",
        "print(e_subconjunto(lista2, lista1))\n",
        "print(e_subconjunto(lista1, lista3))"
      ],
      "metadata": {
        "id": "RmWnBcJHwxNt"
      },
      "execution_count": null,
      "outputs": []
    }
  ]
}