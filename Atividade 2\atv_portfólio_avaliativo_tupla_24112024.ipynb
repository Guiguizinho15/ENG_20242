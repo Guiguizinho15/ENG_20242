{
  "nbformat": 4,
  "nbformat_minor": 0,
  "metadata": {
    "colab": {
      "provenance": [],
      "authorship_tag": "ABX9TyP544zgZGbtmFrqlypRjmoJ",
      "include_colab_link": true
    },
    "kernelspec": {
      "name": "python3",
      "display_name": "Python 3"
    },
    "language_info": {
      "name": "python"
    }
  },
  "cells": [
    {
      "cell_type": "markdown",
      "metadata": {
        "id": "view-in-github",
        "colab_type": "text"
      },
      "source": [
        "<a href=\"https://colab.research.google.com/github/guilhermedmerisio/ENG_20242/blob/main/Atividade%202%5Catv_portf%C3%B3lio_avaliativo_tupla_24112024.ipynb\" target=\"_parent\"><img src=\"https://colab.research.google.com/assets/colab-badge.svg\" alt=\"Open In Colab\"/></a>"
      ]
    },
    {
      "cell_type": "markdown",
      "source": [
        "ATIVIDADE 2 - PORTFÓLIO AVALIATIVO"
      ],
      "metadata": {
        "id": "_Mn6WlkuOq-t"
      }
    },
    {
      "cell_type": "code",
      "source": [
        "#1\n",
        "\n",
        "def filtrar_impares(lista):\n",
        "    return [numero for numero in lista if numero % 2 != 0]\n",
        "numeros = [1, 2, 3, 4, 5, 6, 7, 8, 9]\n",
        "impares = filtrar_impares(numeros)\n",
        "print(impares)"
      ],
      "metadata": {
        "colab": {
          "base_uri": "https://localhost:8080/"
        },
        "id": "hF8I4jFyP8eL",
        "outputId": "31d02a10-6a05-46a4-8347-c708b5ab5423"
      },
      "execution_count": 17,
      "outputs": [
        {
          "output_type": "stream",
          "name": "stdout",
          "text": [
            "[1, 3, 5, 7, 9]\n"
          ]
        }
      ]
    },
    {
      "cell_type": "code",
      "source": [
        "#2\n",
        "\n",
        "def dobrar_elementos(lista):\n",
        "    return [numero * 2 for numero in lista]\n",
        "numeros = [1, 2, 3, 4, 5]\n",
        "dobrados = dobrar_elementos(numeros)\n",
        "print(dobrados)"
      ],
      "metadata": {
        "colab": {
          "base_uri": "https://localhost:8080/"
        },
        "id": "WxiaiCoWPCoa",
        "outputId": "89206a8c-6998-4154-fbb6-4d30357470d8"
      },
      "execution_count": 18,
      "outputs": [
        {
          "output_type": "stream",
          "name": "stdout",
          "text": [
            "[2, 4, 6, 8, 10]\n"
          ]
        }
      ]
    },
    {
      "cell_type": "code",
      "source": [
        "#3\n",
        "\n",
        "def remover_duplicatas(lista):\n",
        "    return list(set(lista))\n",
        "numeros = [1, 2, 3, 2, 4, 5, 1]\n",
        "sem_duplicatas = remover_duplicatas(numeros)\n",
        "print(sem_duplicatas)"
      ],
      "metadata": {
        "colab": {
          "base_uri": "https://localhost:8080/"
        },
        "id": "qgNAzbT_PIwH",
        "outputId": "a70a5fe5-0995-4e14-832c-a7729c61a6b3"
      },
      "execution_count": 19,
      "outputs": [
        {
          "output_type": "stream",
          "name": "stdout",
          "text": [
            "[1, 2, 3, 4, 5]\n"
          ]
        }
      ]
    },
    {
      "cell_type": "code",
      "source": [
        "#4\n",
        "\n",
        "def elementos_divisiveis(lista, divisor):\n",
        "    return [numero for numero in lista if numero % divisor == 0]\n",
        "numeros = [10, 15, 20, 25, 30]\n",
        "divisor = 5\n",
        "divisiveis = elementos_divisiveis(numeros, divisor)\n",
        "print(divisiveis)"
      ],
      "metadata": {
        "colab": {
          "base_uri": "https://localhost:8080/"
        },
        "id": "Y74nTTo2PQKH",
        "outputId": "d93221de-1f43-4d81-8cff-90ea566f7641"
      },
      "execution_count": 20,
      "outputs": [
        {
          "output_type": "stream",
          "name": "stdout",
          "text": [
            "[10, 15, 20, 25, 30]\n"
          ]
        }
      ]
    },
    {
      "cell_type": "code",
      "source": [
        "#5\n",
        "\n",
        "def elementos_comum(lista1, lista2):\n",
        "    return set(lista1) & set(lista2)\n",
        "lista1 = [1, 2, 3, 4, 5]\n",
        "lista2 = [3, 4, 5, 6, 7]\n",
        "comum = elementos_comum(lista1, lista2)\n",
        "print(comum)"
      ],
      "metadata": {
        "id": "lxoLBHvnPXu9"
      },
      "execution_count": 5,
      "outputs": []
    },
    {
      "cell_type": "code",
      "source": [
        "#6\n",
        "\n",
        "def inverter_lista(lista):\n",
        "    return lista[::-1]\n",
        "numeros = [1, 2, 3, 4, 5]\n",
        "invertida = inverter_lista(numeros)\n",
        "print(invertida)"
      ],
      "metadata": {
        "id": "FVvDePFdQwGP"
      },
      "execution_count": null,
      "outputs": []
    },
    {
      "cell_type": "code",
      "source": [
        "#7\n",
        "\n",
        "def quadrados(lista):\n",
        "    return [numero ** 2 for numero in lista]\n",
        "numeros = [1, 2, 3, 4, 5]\n",
        "quadrados_numeros = quadrados(numeros)\n",
        "print(quadrados_numeros)"
      ],
      "metadata": {
        "id": "Ug0Wga81Q3K3"
      },
      "execution_count": null,
      "outputs": []
    },
    {
      "cell_type": "code",
      "source": [
        "#8\n",
        "\n",
        "def elementos_maiores_que(lista, valor):\n",
        "    return [numero for numero in lista if numero > valor]\n",
        "numeros = [1, 3, 5, 7, 9, 2, 4]\n",
        "valor = 4\n",
        "maiores_que_valor = elementos_maiores_que(numeros, valor)\n",
        "print(maiores_que_valor)"
      ],
      "metadata": {
        "id": "cYuAxoxVQ-yO"
      },
      "execution_count": null,
      "outputs": []
    },
    {
      "cell_type": "code",
      "source": [
        "#9\n",
        "\n",
        "def elementos_unicos(lista1, lista2):\n",
        "    return [elemento for elemento in lista1 if elemento not in lista2] + [elemento for elemento in lista2 if elemento not in lista1]\n",
        "lista1 = [1, 2, 3, 4, 5]\n",
        "lista2 = [4, 5, 6, 7, 8]\n",
        "unicos = elementos_unicos(lista1, lista2)\n",
        "print(unicos)"
      ],
      "metadata": {
        "colab": {
          "base_uri": "https://localhost:8080/"
        },
        "id": "LllRDNQiRNMm",
        "outputId": "f19aa983-506b-496b-a4ef-5aaf630473b5"
      },
      "execution_count": 21,
      "outputs": [
        {
          "output_type": "stream",
          "name": "stdout",
          "text": [
            "[1, 2, 3, 6, 7, 8]\n"
          ]
        }
      ]
    },
    {
      "cell_type": "code",
      "source": [
        "#10\n",
        "\n",
        "def lista_para_conjunto(lista):\n",
        "    return set(lista)\n",
        "lista = [1, 2, 2, 3, 4, 4, 5]\n",
        "resultado = lista_para_conjunto(lista)\n",
        "print(resultado)"
      ],
      "metadata": {
        "colab": {
          "base_uri": "https://localhost:8080/"
        },
        "id": "Abls6VC2RcrG",
        "outputId": "46567999-80f5-4fd6-9da8-bb3f2036bcc5"
      },
      "execution_count": 24,
      "outputs": [
        {
          "output_type": "stream",
          "name": "stdout",
          "text": [
            "{1, 2, 3, 4, 5}\n"
          ]
        }
      ]
    },
    {
      "cell_type": "code",
      "source": [
        "#11\n",
        "\n",
        "def elementos_comuns(lista1, lista2):\n",
        "    comuns = set(lista1) & set(lista2)\n",
        "    return list(comuns)\n",
        "lista1 = [1, 2, 2, 3, 4]\n",
        "lista2 = [3, 4, 4, 5, 6]\n",
        "resultado = elementos_comuns(lista1, lista2)\n",
        "print(resultado)"
      ],
      "metadata": {
        "colab": {
          "base_uri": "https://localhost:8080/"
        },
        "id": "HFbwPbjSSFuK",
        "outputId": "3ff80d60-db88-43c9-d6b6-4cdd46f1a982"
      },
      "execution_count": 25,
      "outputs": [
        {
          "output_type": "stream",
          "name": "stdout",
          "text": [
            "[3, 4]\n"
          ]
        }
      ]
    },
    {
      "cell_type": "code",
      "source": [
        "#12\n",
        "\n",
        "def elementos_repetidos(lista):\n",
        "    from collections import Counter\n",
        "    contador = Counter(lista)\n",
        "    repetidos = [item for item, count in contador.items() if count > 1]\n",
        "    return repetidos\n",
        "lista = [1, 2, 2, 3, 4, 4, 5, 6, 6, 6]\n",
        "resultado = elementos_repetidos(lista)\n",
        "print(resultado)"
      ],
      "metadata": {
        "id": "SyY4FzdmSQ3C"
      },
      "execution_count": null,
      "outputs": []
    },
    {
      "cell_type": "code",
      "source": [
        "#13\n",
        "\n",
        "def numeros_pares(lista):\n",
        "    return [num for num in lista if num % 2 == 0]\n",
        "lista = [1, 2, 3, 4, 5, 6, 7, 8, 9, 10]\n",
        "resultado = numeros_pares(lista)\n",
        "print(resultado)"
      ],
      "metadata": {
        "id": "87K6HyVBSeAf"
      },
      "execution_count": null,
      "outputs": []
    },
    {
      "cell_type": "code",
      "source": [
        "#14\n",
        "\n",
        "def indices_maiores_que(lista, valor):\n",
        "    return [i for i, num in enumerate(lista) if num > valor]\n",
        "lista = [10, 15, 7, 20, 5, 30]\n",
        "valor = 10\n",
        "resultado = indices_maiores_que(lista, valor)\n",
        "print(resultado)"
      ],
      "metadata": {
        "id": "0XRVBYfNSnVE"
      },
      "execution_count": null,
      "outputs": []
    },
    {
      "cell_type": "code",
      "source": [
        "#15\n",
        "\n",
        "def tamanhos_das_strings(lista):\n",
        "    return [len(string) for string in lista]\n",
        "lista = [\"casa\", \"carro\", \"avião\", \"python\"]\n",
        "resultado = tamanhos_das_strings(lista)\n",
        "print(resultado)"
      ],
      "metadata": {
        "colab": {
          "base_uri": "https://localhost:8080/"
        },
        "id": "j5Sl7UnKSx1p",
        "outputId": "a13241f1-b661-41cf-fc8d-5c4bce6612d9"
      },
      "execution_count": 26,
      "outputs": [
        {
          "output_type": "stream",
          "name": "stdout",
          "text": [
            "[4, 5, 5, 6]\n"
          ]
        }
      ]
    },
    {
      "cell_type": "code",
      "source": [
        "#16\n",
        "\n",
        "def cubos(lista):\n",
        "    return [num ** 3 for num in lista]\n",
        "lista = [1, 2, 3, 4, 5]\n",
        "resultado = cubos(lista)\n",
        "print(resultado)"
      ],
      "metadata": {
        "colab": {
          "base_uri": "https://localhost:8080/"
        },
        "id": "-Vi8i2F6S8ap",
        "outputId": "01b6eae6-d7be-459c-ccf8-3320bacaa49c"
      },
      "execution_count": 32,
      "outputs": [
        {
          "output_type": "stream",
          "name": "stdout",
          "text": [
            "[1, 8, 27, 64, 125]\n"
          ]
        }
      ]
    },
    {
      "cell_type": "code",
      "source": [
        "#17\n",
        "\n",
        "def elementos_unicos(lista):\n",
        "    return list(set(lista))\n",
        "lista = [1, 2, 2, 3, 4, 4, 5]\n",
        "resultado = elementos_unicos(lista)\n",
        "print(resultado)"
      ],
      "metadata": {
        "id": "OQBBfpmBTE22"
      },
      "execution_count": null,
      "outputs": []
    },
    {
      "cell_type": "code",
      "source": [
        "#18\n",
        "\n",
        "def strings_com_maiuscula(lista):\n",
        "    return [s for s in lista if s and s[0].isupper()]\n",
        "lista = [\"Python\", \"java\", \"C++\", \"ruby\", \"JavaScript\"]\n",
        "resultado = strings_com_maiuscula(lista)\n",
        "print(resultado)"
      ],
      "metadata": {
        "colab": {
          "base_uri": "https://localhost:8080/"
        },
        "id": "ei81JJn_TSY2",
        "outputId": "66d98483-f002-432a-8401-443940cce21c"
      },
      "execution_count": 31,
      "outputs": [
        {
          "output_type": "stream",
          "name": "stdout",
          "text": [
            "['Python', 'C++', 'JavaScript']\n"
          ]
        }
      ]
    },
    {
      "cell_type": "code",
      "source": [
        "#19\n",
        "\n",
        "def multiplos_de_tres(lista):\n",
        "    return [num for num in lista if num % 3 == 0]\n",
        "lista = [1, 3, 4, 6, 9, 10, 12, 14, 15]\n",
        "resultado = multiplos_de_tres(lista)\n",
        "print(resultado)"
      ],
      "metadata": {
        "id": "WejATTvcTp2d"
      },
      "execution_count": null,
      "outputs": []
    },
    {
      "cell_type": "code",
      "source": [
        "#20\n",
        "\n",
        "def interseccao_ordenada(lista1, lista2):\n",
        "    intersecao = sorted(set(lista1) & set(lista2))\n",
        "    return intersecao\n",
        "lista1 = [1, 2, 3, 4, 5]\n",
        "lista2 = [4, 5, 6, 7, 8]\n",
        "resultado = interseccao_ordenada(lista1, lista2)\n",
        "print(resultado)"
      ],
      "metadata": {
        "id": "NuKe8AqTT2db"
      },
      "execution_count": null,
      "outputs": []
    }
  ]
}