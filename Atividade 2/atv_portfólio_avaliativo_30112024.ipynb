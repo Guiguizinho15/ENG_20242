{
  "nbformat": 4,
  "nbformat_minor": 0,
  "metadata": {
    "colab": {
      "provenance": [],
      "authorship_tag": "ABX9TyMTikOtgu7Wq3dXpQdg5R14",
      "include_colab_link": true
    },
    "kernelspec": {
      "name": "python3",
      "display_name": "Python 3"
    },
    "language_info": {
      "name": "python"
    }
  },
  "cells": [
    {
      "cell_type": "markdown",
      "metadata": {
        "id": "view-in-github",
        "colab_type": "text"
      },
      "source": [
        "<a href=\"https://colab.research.google.com/github/guilhermedmerisio/ENG_20242/blob/main/Atividade%202/atv_portf%C3%B3lio_avaliativo_30112024.ipynb\" target=\"_parent\"><img src=\"https://colab.research.google.com/assets/colab-badge.svg\" alt=\"Open In Colab\"/></a>"
      ]
    },
    {
      "cell_type": "markdown",
      "source": [
        "Atividade avaliativa 30/11"
      ],
      "metadata": {
        "id": "d4ZWt5pVhw6L"
      }
    },
    {
      "cell_type": "code",
      "execution_count": 1,
      "metadata": {
        "colab": {
          "base_uri": "https://localhost:8080/"
        },
        "id": "J7RXofc-ht4P",
        "outputId": "e500dc14-de21-484d-dfba-bc37c52101bb"
      },
      "outputs": [
        {
          "output_type": "stream",
          "name": "stdout",
          "text": [
            "[1, 4, 9, 16]\n"
          ]
        }
      ],
      "source": [
        "#1\n",
        "\n",
        "numeros = [1, 2, 3, 4]\n",
        "quadrados = list(map(lambda x: x ** 2, numeros))\n",
        "print(quadrados)"
      ]
    },
    {
      "cell_type": "code",
      "source": [
        "#2\n",
        "\n",
        "celsius = [0, 25, 30]\n",
        "fahrenheit = list(map(lambda c: (c * 9/5) + 32, celsius))\n",
        "print(fahrenheit)"
      ],
      "metadata": {
        "colab": {
          "base_uri": "https://localhost:8080/"
        },
        "id": "YSqTQB0Likkk",
        "outputId": "d2ebf533-384c-4022-eb6b-faf2ac1e4d5b"
      },
      "execution_count": 2,
      "outputs": [
        {
          "output_type": "stream",
          "name": "stdout",
          "text": [
            "[32.0, 77.0, 86.0]\n"
          ]
        }
      ]
    },
    {
      "cell_type": "code",
      "source": [
        "#3\n",
        "\n",
        "palavras = [\"Python\", \"lambda\", \"código\"]\n",
        "comprimentos = list(map(lambda p: len(p), palavras))\n",
        "print(comprimentos)"
      ],
      "metadata": {
        "colab": {
          "base_uri": "https://localhost:8080/"
        },
        "id": "KYSQA_0iispl",
        "outputId": "a6ca2c2e-4477-4cfe-b8d8-dc7471774691"
      },
      "execution_count": 3,
      "outputs": [
        {
          "output_type": "stream",
          "name": "stdout",
          "text": [
            "[6, 6, 6]\n"
          ]
        }
      ]
    },
    {
      "cell_type": "code",
      "source": [
        "#4\n",
        "\n",
        "numeros = [1, 2, 3, 4]\n",
        "dobrados = list(map(lambda x: x * 2, numeros))\n",
        "print(dobrados)"
      ],
      "metadata": {
        "colab": {
          "base_uri": "https://localhost:8080/"
        },
        "id": "cZukGn82ixBT",
        "outputId": "f3bad0db-c411-48f3-b151-67f245475a9b"
      },
      "execution_count": 4,
      "outputs": [
        {
          "output_type": "stream",
          "name": "stdout",
          "text": [
            "[2, 4, 6, 8]\n"
          ]
        }
      ]
    },
    {
      "cell_type": "code",
      "source": [
        "#5\n",
        "\n",
        "nomes = [\"João\", \"Maria\", \"Carlos\"]\n",
        "prefixados = list(map(lambda n: f\"Sr./Sra. {n}\", nomes))\n",
        "print(prefixados)"
      ],
      "metadata": {
        "colab": {
          "base_uri": "https://localhost:8080/"
        },
        "id": "OYDNGLxMiyTU",
        "outputId": "aac03e9d-a364-4838-e6ab-03d072aef887"
      },
      "execution_count": 5,
      "outputs": [
        {
          "output_type": "stream",
          "name": "stdout",
          "text": [
            "['Sr./Sra. João', 'Sr./Sra. Maria', 'Sr./Sra. Carlos']\n"
          ]
        }
      ]
    },
    {
      "cell_type": "code",
      "source": [
        "#6\n",
        "\n",
        "numeros = [1, 2, 3, 4, 5]\n",
        "pares = list(filter(lambda x: x % 2 == 0, numeros))\n",
        "print(pares)"
      ],
      "metadata": {
        "colab": {
          "base_uri": "https://localhost:8080/"
        },
        "id": "8zs-Ah7fi3L8",
        "outputId": "fc6bd0db-76ac-472c-cf24-6d946d2490b8"
      },
      "execution_count": 6,
      "outputs": [
        {
          "output_type": "stream",
          "name": "stdout",
          "text": [
            "[2, 4]\n"
          ]
        }
      ]
    },
    {
      "cell_type": "code",
      "source": [
        "#7\n",
        "\n",
        "palavras = [\"sol\", \"lua\", \"planeta\"]\n",
        "curtas = list(filter(lambda p: len(p) < 5, palavras))\n",
        "print(curtas)"
      ],
      "metadata": {
        "colab": {
          "base_uri": "https://localhost:8080/"
        },
        "id": "CG7XTyd2i49j",
        "outputId": "2f02c765-4b77-4b40-8a76-a71d0d509db5"
      },
      "execution_count": 7,
      "outputs": [
        {
          "output_type": "stream",
          "name": "stdout",
          "text": [
            "['sol', 'lua']\n"
          ]
        }
      ]
    },
    {
      "cell_type": "code",
      "source": [
        "#8\n",
        "\n",
        "idades = [15, 20, 17, 25]\n",
        "adultos = list(filter(lambda i: i > 18, idades))\n",
        "print(adultos)"
      ],
      "metadata": {
        "colab": {
          "base_uri": "https://localhost:8080/"
        },
        "id": "fLec8qHRi74T",
        "outputId": "cf06c2a3-935a-40da-ee7b-839c07e00fdb"
      },
      "execution_count": 8,
      "outputs": [
        {
          "output_type": "stream",
          "name": "stdout",
          "text": [
            "[20, 25]\n"
          ]
        }
      ]
    },
    {
      "cell_type": "code",
      "source": [
        "#9\n",
        "\n",
        "strings = [\"arvore\", \"casa\", \"amor\", \"sol\"]\n",
        "com_a = list(filter(lambda s: s.startswith('a'), strings))\n",
        "print(com_a)"
      ],
      "metadata": {
        "colab": {
          "base_uri": "https://localhost:8080/"
        },
        "id": "CzuRzegAi-gG",
        "outputId": "e1208624-289c-4a48-a1f4-581e1666b5b9"
      },
      "execution_count": 9,
      "outputs": [
        {
          "output_type": "stream",
          "name": "stdout",
          "text": [
            "['arvore', 'amor']\n"
          ]
        }
      ]
    },
    {
      "cell_type": "code",
      "source": [
        "#10\n",
        "\n",
        "numeros = [-1, 2, -3, 4]\n",
        "positivos = list(filter(lambda x: x > 0, numeros))\n",
        "print(positivos)"
      ],
      "metadata": {
        "colab": {
          "base_uri": "https://localhost:8080/"
        },
        "id": "7kewMkHUjBwE",
        "outputId": "d2d7442e-2559-4d83-88f1-bb887139a738"
      },
      "execution_count": 10,
      "outputs": [
        {
          "output_type": "stream",
          "name": "stdout",
          "text": [
            "[2, 4]\n"
          ]
        }
      ]
    },
    {
      "cell_type": "code",
      "source": [
        "#11\n",
        "\n",
        "numeros = [1, 2, 3, 4]\n",
        "soma = (lambda x: sum(x))(numeros)\n",
        "print(soma)"
      ],
      "metadata": {
        "colab": {
          "base_uri": "https://localhost:8080/"
        },
        "id": "Gr-H3XVijDiD",
        "outputId": "c45af404-3992-4c17-ad14-50fd195ae09f"
      },
      "execution_count": 11,
      "outputs": [
        {
          "output_type": "stream",
          "name": "stdout",
          "text": [
            "10\n"
          ]
        }
      ]
    },
    {
      "cell_type": "code",
      "source": [
        "#12\n",
        "\n",
        "from functools import reduce\n",
        "numeros = [1, 2, 3, 4]\n",
        "produto = reduce(lambda x, y: x * y, numeros)\n",
        "print(produto)"
      ],
      "metadata": {
        "colab": {
          "base_uri": "https://localhost:8080/"
        },
        "id": "RO9IHcWujGt4",
        "outputId": "cae56bcb-0e30-4834-8868-16bad1e45419"
      },
      "execution_count": 12,
      "outputs": [
        {
          "output_type": "stream",
          "name": "stdout",
          "text": [
            "24\n"
          ]
        }
      ]
    },
    {
      "cell_type": "code",
      "source": [
        "#13\n",
        "\n",
        "numeros = [1, 2, 3, 4]\n",
        "maior = (lambda x: max(x))(numeros)\n",
        "print(maior)"
      ],
      "metadata": {
        "colab": {
          "base_uri": "https://localhost:8080/"
        },
        "id": "y2qcjsARjIct",
        "outputId": "6ac5d8a3-3ef3-4549-9d23-d244a9e0dcc7"
      },
      "execution_count": 13,
      "outputs": [
        {
          "output_type": "stream",
          "name": "stdout",
          "text": [
            "4\n"
          ]
        }
      ]
    },
    {
      "cell_type": "code",
      "source": [
        "#14\n",
        "\n",
        "palavras = [\"Python\", \"é\", \"divertido\"]\n",
        "frase = (lambda x: ' '.join(x))(palavras)\n",
        "print(frase)"
      ],
      "metadata": {
        "colab": {
          "base_uri": "https://localhost:8080/"
        },
        "id": "zaRy97-djMkD",
        "outputId": "6837f233-78e2-4b90-e048-8ac839c1d0d9"
      },
      "execution_count": 14,
      "outputs": [
        {
          "output_type": "stream",
          "name": "stdout",
          "text": [
            "Python é divertido\n"
          ]
        }
      ]
    },
    {
      "cell_type": "code",
      "source": [
        "#15\n",
        "\n",
        "numeros = [12, 34, 56]\n",
        "somas = list(map(lambda x: sum(int(d) for d in str(x)), numeros))\n",
        "print(somas)"
      ],
      "metadata": {
        "colab": {
          "base_uri": "https://localhost:8080/"
        },
        "id": "8h_CIXH4jOxr",
        "outputId": "9fe36411-9f78-4385-a109-e9fac4bc1ab7"
      },
      "execution_count": 15,
      "outputs": [
        {
          "output_type": "stream",
          "name": "stdout",
          "text": [
            "[3, 7, 11]\n"
          ]
        }
      ]
    },
    {
      "cell_type": "code",
      "source": [
        "#16\n",
        "\n",
        "numeros = [5, 10, 15]\n",
        "filtrados = list(filter(lambda x: x > 20, map(lambda x: x * 2, numeros)))\n",
        "print(filtrados)"
      ],
      "metadata": {
        "colab": {
          "base_uri": "https://localhost:8080/"
        },
        "id": "BF4oOKnSjRP0",
        "outputId": "00af7102-5dea-4ba9-ea7a-8b7e60325fd0"
      },
      "execution_count": 16,
      "outputs": [
        {
          "output_type": "stream",
          "name": "stdout",
          "text": [
            "[30]\n"
          ]
        }
      ]
    },
    {
      "cell_type": "code",
      "source": [
        "#17\n",
        "\n",
        "palavras = [\"casa\", \"elefante\", \"mesa\", \"porta\"]\n",
        "com_e = list(filter(lambda p: 'e' in p, palavras))\n",
        "print(com_e, len(com_e))"
      ],
      "metadata": {
        "colab": {
          "base_uri": "https://localhost:8080/"
        },
        "id": "2a0Uf7tdjUNi",
        "outputId": "b354f654-5dee-481b-8379-4b194b4fd823"
      },
      "execution_count": 17,
      "outputs": [
        {
          "output_type": "stream",
          "name": "stdout",
          "text": [
            "['elefante', 'mesa'] 2\n"
          ]
        }
      ]
    },
    {
      "cell_type": "code",
      "source": [
        "#18\n",
        "\n",
        "fahrenheit = [32, 50, 68]\n",
        "celsius = list(filter(lambda c: c < 20, map(lambda f: (f - 32) * 5/9, fahrenheit)))\n",
        "print(celsius)"
      ],
      "metadata": {
        "colab": {
          "base_uri": "https://localhost:8080/"
        },
        "id": "TTufczAojWvr",
        "outputId": "94ce9bb8-5468-4159-d699-af732a159a31"
      },
      "execution_count": 18,
      "outputs": [
        {
          "output_type": "stream",
          "name": "stdout",
          "text": [
            "[0.0, 10.0]\n"
          ]
        }
      ]
    },
    {
      "cell_type": "code",
      "source": [
        "#19\n",
        "\n",
        "numeros = [1, 2, 3, 4]\n",
        "soma_pares = sum(filter(lambda x: x % 2 == 0, numeros))\n",
        "print(soma_pares)"
      ],
      "metadata": {
        "colab": {
          "base_uri": "https://localhost:8080/"
        },
        "id": "m6M8us1Bja6I",
        "outputId": "266d1422-fc7e-471f-d761-af1aaadff559"
      },
      "execution_count": 19,
      "outputs": [
        {
          "output_type": "stream",
          "name": "stdout",
          "text": [
            "6\n"
          ]
        }
      ]
    },
    {
      "cell_type": "code",
      "source": [
        "#20\n",
        "\n",
        "numeros = [-1, 2, -3, 4]\n",
        "ajustados = list(map(lambda x: max(x, 0), numeros))\n",
        "print(ajustados)"
      ],
      "metadata": {
        "colab": {
          "base_uri": "https://localhost:8080/"
        },
        "id": "lG5-U7I7jd3m",
        "outputId": "52b1c536-01c3-496b-c220-13aa3c2e9a68"
      },
      "execution_count": 20,
      "outputs": [
        {
          "output_type": "stream",
          "name": "stdout",
          "text": [
            "[0, 2, 0, 4]\n"
          ]
        }
      ]
    },
    {
      "cell_type": "code",
      "source": [
        "#21\n",
        "\n",
        "numeros = [1, 2, 3]\n",
        "cubos = list(map(lambda x: x ** 3, numeros))\n",
        "print(cubos)"
      ],
      "metadata": {
        "colab": {
          "base_uri": "https://localhost:8080/"
        },
        "id": "Gipk7t82jf3h",
        "outputId": "74b63c3e-5859-4c9c-fb30-655c0f93b236"
      },
      "execution_count": 21,
      "outputs": [
        {
          "output_type": "stream",
          "name": "stdout",
          "text": [
            "[1, 8, 27]\n"
          ]
        }
      ]
    },
    {
      "cell_type": "code",
      "source": [
        "#22\n",
        "\n",
        "primo = lambda n: n > 1 and all(n % i != 0 for i in range(2, int(n**0.5) + 1))\n",
        "print(primo(7))\n",
        "print(primo(4))"
      ],
      "metadata": {
        "colab": {
          "base_uri": "https://localhost:8080/"
        },
        "id": "rnTZEAvpjib8",
        "outputId": "f49416a9-ce8d-4b9d-c163-ac2f4578fd9f"
      },
      "execution_count": 22,
      "outputs": [
        {
          "output_type": "stream",
          "name": "stdout",
          "text": [
            "True\n",
            "False\n"
          ]
        }
      ]
    },
    {
      "cell_type": "code",
      "source": [
        "#23\n",
        "\n",
        "numeros = [10, 20, 25]\n",
        "divididos = list(map(lambda x: x / 5, numeros))\n",
        "print(divididos)"
      ],
      "metadata": {
        "colab": {
          "base_uri": "https://localhost:8080/"
        },
        "id": "BLeEsXD-jl5u",
        "outputId": "d605c75b-ecda-4bce-e0a3-aeca344be120"
      },
      "execution_count": 23,
      "outputs": [
        {
          "output_type": "stream",
          "name": "stdout",
          "text": [
            "[2.0, 4.0, 5.0]\n"
          ]
        }
      ]
    },
    {
      "cell_type": "code",
      "source": [
        "#24\n",
        "\n",
        "texto = \"lambda é incrível\"\n",
        "sem_vogais = ''.join(filter(lambda c: c.lower() not in \"aeiou\", texto))\n",
        "print(sem_vogais)"
      ],
      "metadata": {
        "colab": {
          "base_uri": "https://localhost:8080/"
        },
        "id": "rjBXjKa0jolP",
        "outputId": "cabf18ce-179e-4aab-f357-475c7ea00855"
      },
      "execution_count": 24,
      "outputs": [
        {
          "output_type": "stream",
          "name": "stdout",
          "text": [
            "lmbd é ncrívl\n"
          ]
        }
      ]
    },
    {
      "cell_type": "code",
      "source": [
        "#25\n",
        "\n",
        "palavras = [\"python\", \"lambda\", \"code\"]\n",
        "maiusculas = list(map(lambda p: p.upper(), palavras))\n",
        "print(maiusculas)"
      ],
      "metadata": {
        "colab": {
          "base_uri": "https://localhost:8080/"
        },
        "id": "YAnA73gPjrrK",
        "outputId": "1e036e29-5e8b-4b77-90bd-2d0eb738f5af"
      },
      "execution_count": 25,
      "outputs": [
        {
          "output_type": "stream",
          "name": "stdout",
          "text": [
            "['PYTHON', 'LAMBDA', 'CODE']\n"
          ]
        }
      ]
    },
    {
      "cell_type": "code",
      "source": [
        "#26\n",
        "\n",
        "numeros = [-1, 2, -3, 4]\n",
        "negativos = list(filter(lambda x: x < 0, numeros))\n",
        "print(negativos)"
      ],
      "metadata": {
        "colab": {
          "base_uri": "https://localhost:8080/"
        },
        "id": "cqz3ldJejt5h",
        "outputId": "f3455d44-2f03-4c7c-e435-af6b388ba35f"
      },
      "execution_count": 26,
      "outputs": [
        {
          "output_type": "stream",
          "name": "stdout",
          "text": [
            "[-1, -3]\n"
          ]
        }
      ]
    },
    {
      "cell_type": "code",
      "source": [
        "#27\n",
        "\n",
        "numeros = [-1, 2, -3, 4]\n",
        "absolutos = list(map(lambda x: abs(x), numeros))\n",
        "print(absolutos)"
      ],
      "metadata": {
        "colab": {
          "base_uri": "https://localhost:8080/"
        },
        "id": "7-D5kQEJjxln",
        "outputId": "0df72052-568d-47a3-c031-55c9bb14cdcc"
      },
      "execution_count": 27,
      "outputs": [
        {
          "output_type": "stream",
          "name": "stdout",
          "text": [
            "[1, 2, 3, 4]\n"
          ]
        }
      ]
    },
    {
      "cell_type": "code",
      "source": [
        "#28\n",
        "\n",
        "numeros = [1, 2, 3, 4]\n",
        "restos = list(map(lambda x: x % 3, numeros))\n",
        "print(restos)"
      ],
      "metadata": {
        "colab": {
          "base_uri": "https://localhost:8080/"
        },
        "id": "_E2L28zajz6G",
        "outputId": "db05f847-3822-414a-9972-5de2300a238b"
      },
      "execution_count": 28,
      "outputs": [
        {
          "output_type": "stream",
          "name": "stdout",
          "text": [
            "[1, 2, 0, 1]\n"
          ]
        }
      ]
    },
    {
      "cell_type": "code",
      "source": [
        "#29\n",
        "\n",
        "numeros = [1, 2, 3, 4]\n",
        "multiplicados = list(map(lambda x: x[0] * x[1], enumerate(numeros)))\n",
        "print(multiplicados)"
      ],
      "metadata": {
        "colab": {
          "base_uri": "https://localhost:8080/"
        },
        "id": "5drLGQFbj1_n",
        "outputId": "9d6eba20-1202-446d-88c6-c3142168e8e8"
      },
      "execution_count": 29,
      "outputs": [
        {
          "output_type": "stream",
          "name": "stdout",
          "text": [
            "[0, 2, 6, 12]\n"
          ]
        }
      ]
    },
    {
      "cell_type": "code",
      "source": [
        "#30\n",
        "\n",
        "palindromo = lambda p: p == p[::-1]\n",
        "print(palindromo(\"arara\"))\n",
        "print(palindromo(\"python\"))"
      ],
      "metadata": {
        "colab": {
          "base_uri": "https://localhost:8080/"
        },
        "id": "XD1RNLDkj4Nv",
        "outputId": "4ed1e879-6d5d-4d35-cef8-2be2af6de2f1"
      },
      "execution_count": 30,
      "outputs": [
        {
          "output_type": "stream",
          "name": "stdout",
          "text": [
            "True\n",
            "False\n"
          ]
        }
      ]
    }
  ]
}